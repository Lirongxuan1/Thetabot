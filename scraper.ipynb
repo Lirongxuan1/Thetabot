{
  "nbformat": 4,
  "nbformat_minor": 0,
  "metadata": {
    "colab": {
      "name": ".ipynb",
      "provenance": [],
      "authorship_tag": "ABX9TyPKKmFYKE+8ZQ+hRUtySPHT",
      "include_colab_link": true
    },
    "kernelspec": {
      "name": "python3",
      "display_name": "Python 3"
    }
  },
  "cells": [
    {
      "cell_type": "markdown",
      "metadata": {
        "id": "view-in-github",
        "colab_type": "text"
      },
      "source": [
        "<a href=\"https://colab.research.google.com/github/Lirongxuan1/Thetabot/blob/master/scraper.ipynb\" target=\"_parent\"><img src=\"https://colab.research.google.com/assets/colab-badge.svg\" alt=\"Open In Colab\"/></a>"
      ]
    },
    {
      "cell_type": "markdown",
      "metadata": {
        "id": "fhrihEt986HD",
        "colab_type": "text"
      },
      "source": [
        ""
      ]
    },
    {
      "cell_type": "code",
      "metadata": {
        "id": "ZmVpyHLv4xvl",
        "colab_type": "code",
        "colab": {
          "base_uri": "https://localhost:8080/",
          "height": 259
        },
        "outputId": "6f459869-1a3d-40dc-983e-e199337c195d"
      },
      "source": [
        "#!pip install yahoo_fin\n",
        "from yahoo_fin import stock_info as si\n",
        "from yahoo_fin import options\n",
        "dow_tickers = si.tickers_dow()\n",
        " \n",
        "# replace DOW with DWDP in ticker list\n",
        "dow_tickers.remove(\"DOW\")\n",
        "#dow_tickers.append(\"DWDP\")\n",
        " \n",
        "# scrape the options data for each Dow ticker\n",
        "dow_data = {}\n",
        "for ticker in dow_tickers:\n",
        "    try:\n",
        "        dow_data[ticker] = options.get_options_chain(ticker)\n",
        "    except Exception:\n",
        "        print(ticker + \" failed\")\n",
        "print (dow_data[\"AAPL\"][\"calls\"])"
      ],
      "execution_count": 31,
      "outputs": [
        {
          "output_type": "stream",
          "text": [
            "          Contract Name  ... Implied Volatility\n",
            "0   AAPL200828C00190000  ...            715.43%\n",
            "1   AAPL200828C00195000  ...            697.95%\n",
            "2   AAPL200828C00200000  ...            692.58%\n",
            "3   AAPL200828C00205000  ...            664.45%\n",
            "4   AAPL200828C00210000  ...            648.24%\n",
            "..                  ...  ...                ...\n",
            "91  AAPL200828C00660000  ...            120.31%\n",
            "92  AAPL200828C00670000  ...            125.78%\n",
            "93  AAPL200828C00680000  ...            128.13%\n",
            "94  AAPL200828C00690000  ...            134.38%\n",
            "95  AAPL200828C00700000  ...            128.13%\n",
            "\n",
            "[96 rows x 11 columns]\n"
          ],
          "name": "stdout"
        }
      ]
    },
    {
      "cell_type": "code",
      "metadata": {
        "id": "kOAARIBW-WG5",
        "colab_type": "code",
        "colab": {}
      },
      "source": [
        ""
      ],
      "execution_count": null,
      "outputs": []
    }
  ]
}