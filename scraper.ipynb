{
  "nbformat": 4,
  "nbformat_minor": 0,
  "metadata": {
    "colab": {
      "name": ".ipynb",
      "provenance": [],
      "authorship_tag": "ABX9TyOvH9eO4yvZgJhETs5iiUWq",
      "include_colab_link": true
    },
    "kernelspec": {
      "name": "python3",
      "display_name": "Python 3"
    }
  },
  "cells": [
    {
      "cell_type": "markdown",
      "metadata": {
        "id": "view-in-github",
        "colab_type": "text"
      },
      "source": [
        "<a href=\"https://colab.research.google.com/github/Lirongxuan1/Thetabot/blob/master/scraper.ipynb\" target=\"_parent\"><img src=\"https://colab.research.google.com/assets/colab-badge.svg\" alt=\"Open In Colab\"/></a>"
      ]
    },
    {
      "cell_type": "markdown",
      "metadata": {
        "id": "fhrihEt986HD",
        "colab_type": "text"
      },
      "source": [
        ""
      ]
    },
    {
      "cell_type": "code",
      "metadata": {
        "id": "ZmVpyHLv4xvl",
        "colab_type": "code",
        "colab": {
          "base_uri": "https://localhost:8080/",
          "height": 34
        },
        "outputId": "ff98c2bb-fa37-4b1f-fb03-5d3ced7a6bc0"
      },
      "source": [
        "#!pip install yahoo_fin\n",
        "from google.colab import drive\n",
        "drive.mount('/content/drive')\n",
        "from yahoo_fin import stock_info as si\n",
        "from yahoo_fin import options\n",
        "import pickle\n",
        "dow_tickers = si.tickers_dow()\n",
        " \n",
        "# replace DOW with DWDP in ticker list\n",
        "dow_tickers.remove(\"DOW\")\n",
        "#dow_tickers.append(\"DWDP\")\n",
        " \n",
        "# scrape the options data for each Dow ticker\n",
        "dow_data = {}\n",
        "for ticker in dow_tickers:\n",
        "    try:\n",
        "        dow_data[ticker] = options.get_options_chain(ticker)\n",
        "    except Exception:\n",
        "        print(ticker + \" failed\")\n",
        "f = open(\"data.pkl\",\"wb\")\n",
        "pickle.dump(dow_data,f)\n",
        "f.close()\n"
      ],
      "execution_count": 35,
      "outputs": [
        {
          "output_type": "stream",
          "text": [
            "Drive already mounted at /content/drive; to attempt to forcibly remount, call drive.mount(\"/content/drive\", force_remount=True).\n"
          ],
          "name": "stdout"
        }
      ]
    },
    {
      "cell_type": "code",
      "metadata": {
        "id": "kOAARIBW-WG5",
        "colab_type": "code",
        "colab": {}
      },
      "source": [
        ""
      ],
      "execution_count": null,
      "outputs": []
    }
  ]
}